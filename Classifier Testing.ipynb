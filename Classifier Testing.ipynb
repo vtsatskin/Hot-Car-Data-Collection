{
 "cells": [
  {
   "cell_type": "code",
   "execution_count": 42,
   "metadata": {
    "collapsed": false
   },
   "outputs": [],
   "source": [
    "import sqlite3\n",
    "conn = sqlite3.connect('sessions.db')\n",
    "c = conn.cursor()\n",
    "class Participant(Enum):\n",
    "     none = 0\n",
    "     adult = 1\n",
    "     child = 2\n",
    "     pet = 3\n",
    "rows = [r for r in c.execute('SELECT * FROM readings')]\n",
    "image_paths = ['image_data/{}'.format(r[5]) for r in rows]\n",
    "X = [np.array(data.imread(p)).flatten() for p in image_paths]\n",
    "y = [Participant[r[2]].value for r in rows]"
   ]
  },
  {
   "cell_type": "markdown",
   "metadata": {},
   "source": [
    "# Plots of Various Classifier Accuracy"
   ]
  },
  {
   "cell_type": "code",
   "execution_count": 41,
   "metadata": {
    "collapsed": false,
    "scrolled": false
   },
   "outputs": [
    {
     "name": "stderr",
     "output_type": "stream",
     "text": [
      "/usr/local/lib/python3.5/site-packages/sklearn/discriminant_analysis.py:387: UserWarning: Variables are collinear.\n",
      "  warnings.warn(\"Variables are collinear.\")\n",
      "/usr/local/lib/python3.5/site-packages/sklearn/discriminant_analysis.py:688: UserWarning: Variables are collinear\n",
      "  warnings.warn(\"Variables are collinear\")\n"
     ]
    },
    {
     "data": {
      "text/plain": [
       "([<matplotlib.axis.YTick at 0x119a9d400>,\n",
       "  <matplotlib.axis.YTick at 0x118f1fe10>,\n",
       "  <matplotlib.axis.YTick at 0x118ffd518>,\n",
       "  <matplotlib.axis.YTick at 0x119847f60>,\n",
       "  <matplotlib.axis.YTick at 0x11984a9b0>,\n",
       "  <matplotlib.axis.YTick at 0x11984e400>,\n",
       "  <matplotlib.axis.YTick at 0x11984ee10>,\n",
       "  <matplotlib.axis.YTick at 0x119854860>,\n",
       "  <matplotlib.axis.YTick at 0x1198582b0>],\n",
       " <a list of 9 Text yticklabel objects>)"
      ]
     },
     "execution_count": 41,
     "metadata": {},
     "output_type": "execute_result"
    },
    {
     "data": {
      "image/png": "[encoded data removed]",
      "text/plain": [
       "<matplotlib.figure.Figure at 0x1199a04a8>"
      ]
     },
     "metadata": {},
     "output_type": "display_data"
    }
   ],
   "source": [
    "import numpy as np\n",
    "import matplotlib.pyplot as plt\n",
    "from matplotlib.colors import ListedColormap\n",
    "from sklearn.cross_validation import train_test_split\n",
    "from sklearn.preprocessing import StandardScaler\n",
    "from sklearn.datasets import make_moons, make_circles, make_classification\n",
    "from sklearn.neighbors import KNeighborsClassifier\n",
    "from sklearn.svm import SVC\n",
    "from sklearn.tree import DecisionTreeClassifier\n",
    "from sklearn.ensemble import RandomForestClassifier, AdaBoostClassifier\n",
    "from sklearn.naive_bayes import GaussianNB\n",
    "from sklearn.discriminant_analysis import LinearDiscriminantAnalysis\n",
    "from sklearn.discriminant_analysis import QuadraticDiscriminantAnalysis\n",
    "from enum import Enum\n",
    "from skimage import data\n",
    "%matplotlib inline\n",
    "h = .02  # step size in the mesh\n",
    "\n",
    "names = [\"Nearest Neighbors\", \"Linear SVM\", \"RBF SVM\", \"Decision Tree\",\n",
    "         \"Random Forest\", \"AdaBoost\", \"Naive Bayes\", \"Linear Discriminant Analysis\",\n",
    "         \"Quadratic Discriminant Analysis\"]\n",
    "classifiers = [\n",
    "    KNeighborsClassifier(3),\n",
    "    SVC(kernel=\"linear\", C=0.025),\n",
    "    SVC(gamma=2, C=1),\n",
    "    DecisionTreeClassifier(max_depth=5),\n",
    "    RandomForestClassifier(max_depth=5, n_estimators=10, max_features=1),\n",
    "    AdaBoostClassifier(),\n",
    "    GaussianNB(),\n",
    "    LinearDiscriminantAnalysis(),\n",
    "    QuadraticDiscriminantAnalysis()]\n",
    "\n",
    "#X = StandardScaler().fit_transform(X)\n",
    "# y_train will be an array that designates if there is a person or not a person in an image\n",
    "# X_train is all of our images\n",
    "classifier_scores = []\n",
    "plt.xlim((0,1))\n",
    "for name, clf in zip(names, classifiers):  \n",
    "    scores = []\n",
    "    for j in range(0,100):\n",
    "        X_train, X_test, y_train, y_test = train_test_split(X, y, test_size=.4)\n",
    "        # iterate over classifiers\n",
    "\n",
    "        clf.fit(X_train, y_train)\n",
    "        scores.append(clf.score(X_test, y_test))\n",
    "    classifier_scores.append(scores)\n",
    "\n",
    "plt.boxplot(classifier_scores, vert=False)\n",
    "plt.yticks(range(1,len(classifiers) + 1), names)"
   ]
  },
  {
   "cell_type": "markdown",
   "metadata": {},
   "source": [
    "# Save the Best Classifier (Nearest Neighbors)"
   ]
  },
  {
   "cell_type": "code",
   "execution_count": 44,
   "metadata": {
    "collapsed": false
   },
   "outputs": [
    {
     "name": "stdout",
     "output_type": "stream",
     "text": [
      "0.991071428571\n"
     ]
    },
    {
     "data": {
      "text/plain": [
       "['classifier.pkl',\n",
       " 'classifier.pkl_01.npy',\n",
       " 'classifier.pkl_02.npy',\n",
       " 'classifier.pkl_03.npy',\n",
       " 'classifier.pkl_04.npy',\n",
       " 'classifier.pkl_05.npy',\n",
       " 'classifier.pkl_06.npy',\n",
       " 'classifier.pkl_07.npy',\n",
       " 'classifier.pkl_08.npy',\n",
       " 'classifier.pkl_09.npy']"
      ]
     },
     "execution_count": 44,
     "metadata": {},
     "output_type": "execute_result"
    }
   ],
   "source": [
    "from sklearn.externals import joblib\n",
    "import copy\n",
    "max_score = 0\n",
    "clf = KNeighborsClassifier(3)\n",
    "for j in range(0,100):\n",
    "    X_train, X_test, y_train, y_test = train_test_split(X, y, test_size=.4)\n",
    "    # iterate over classifiers\n",
    "\n",
    "    clf.fit(X_train, y_train)\n",
    "    score = clf.score(X_test, y_test)\n",
    "    if (score > max_score):\n",
    "        max_clf = copy.deepcopy(clf)\n",
    "        max_score = score\n",
    "\n",
    "print(max_score)        \n",
    "joblib.dump(max_clf, 'classifier.pkl') "
   ]
  },
  {
   "cell_type": "code",
   "execution_count": null,
   "metadata": {
    "collapsed": true
   },
   "outputs": [],
   "source": []
  }
 ],
 "metadata": {
  "kernelspec": {
   "display_name": "Python 3",
   "language": "python",
   "name": "python3"
  },
  "language_info": {
   "codemirror_mode": {
    "name": "ipython",
    "version": 3
   },
   "file_extension": ".py",
   "mimetype": "text/x-python",
   "name": "python",
   "nbconvert_exporter": "python",
   "pygments_lexer": "ipython3",
   "version": "3.5.0"
  }
 },
 "nbformat": 4,
 "nbformat_minor": 0
}
