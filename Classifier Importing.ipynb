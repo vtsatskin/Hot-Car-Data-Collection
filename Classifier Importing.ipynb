{
 "cells": [
  {
   "cell_type": "code",
   "execution_count": 12,
   "metadata": {
    "collapsed": false
   },
   "outputs": [
    {
     "data": {
      "text/plain": [
       "array([0])"
      ]
     },
     "execution_count": 12,
     "metadata": {},
     "output_type": "execute_result"
    }
   ],
   "source": [
    "from sklearn.externals import joblib\n",
    "import numpy as np\n",
    "import sqlite3\n",
    "from enum import Enum\n",
    "from skimage import data\n",
    "\n",
    "clf = joblib.load('classifier.pkl') \n",
    "conn = sqlite3.connect('sessions.db')\n",
    "c = conn.cursor()\n",
    "class Participant(Enum):\n",
    "     none = 0\n",
    "     adult = 1\n",
    "     child = 2\n",
    "     pet = 3\n",
    "rows = [r for r in c.execute(\"SELECT * FROM readings WHERE subject_type='none'\")]\n",
    "image_paths = ['image_data/{}'.format(r[5]) for r in rows]\n",
    "X = [np.array(data.imread(p)).flatten() for p in image_paths]\n",
    "y = [Participant[r[2]].value for r in rows]\n",
    "\n",
    "clf.predict(X[0].reshape(1, -1))"
   ]
  },
  {
   "cell_type": "code",
   "execution_count": null,
   "metadata": {
    "collapsed": true
   },
   "outputs": [],
   "source": []
  }
 ],
 "metadata": {
  "kernelspec": {
   "display_name": "Python 3",
   "language": "python",
   "name": "python3"
  },
  "language_info": {
   "codemirror_mode": {
    "name": "ipython",
    "version": 3
   },
   "file_extension": ".py",
   "mimetype": "text/x-python",
   "name": "python",
   "nbconvert_exporter": "python",
   "pygments_lexer": "ipython3",
   "version": "3.5.0"
  }
 },
 "nbformat": 4,
 "nbformat_minor": 0
}
